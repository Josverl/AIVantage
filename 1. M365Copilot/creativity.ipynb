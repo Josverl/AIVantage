{
 "cells": [
  {
   "cell_type": "code",
   "execution_count": 1,
   "metadata": {},
   "outputs": [],
   "source": [
    "from clippy import ask"
   ]
  },
  {
   "cell_type": "code",
   "execution_count": 2,
   "metadata": {},
   "outputs": [
    {
     "name": "stdout",
     "output_type": "stream",
     "text": [
      "\n",
      "create 20 different prompts for GPT-4 to brainstorm about to options in add Azure AI technology such as LLms and vector search to ISV solutions.\n",
      "create a paragraph for each idea and rate the prompts on creativity.  show only the ten most creative ideas \n",
      "\n",
      " \n",
      "\n",
      "📎OK\n"
     ]
    }
   ],
   "source": [
    "question = \"\"\"\n",
    "create 20 different prompts for GPT-4 to brainstorm about to options in add Azure AI technology such as LLms and vector search to ISV solutions.\n",
    "create a paragraph for each idea and rate the prompts on creativity.  show only the ten most creative ideas \n",
    "\n",
    "\"\"\"\n",
    "ask(question)"
   ]
  },
  {
   "cell_type": "code",
   "execution_count": null,
   "metadata": {},
   "outputs": [],
   "source": []
  }
 ],
 "metadata": {
  "kernelspec": {
   "display_name": ".venv",
   "language": "python",
   "name": "python3"
  },
  "language_info": {
   "codemirror_mode": {
    "name": "ipython",
    "version": 3
   },
   "file_extension": ".py",
   "mimetype": "text/x-python",
   "name": "python",
   "nbconvert_exporter": "python",
   "pygments_lexer": "ipython3",
   "version": "3.11.6"
  }
 },
 "nbformat": 4,
 "nbformat_minor": 2
}
