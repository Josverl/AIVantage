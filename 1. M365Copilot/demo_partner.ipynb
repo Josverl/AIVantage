{
 "cells": [
  {
   "cell_type": "markdown",
   "metadata": {},
   "source": [
    "# CoPilot for Business - Balanced\n",
    "https://copilot.microsoft.com/?BCB=0&showconv=0\n"
   ]
  },
  {
   "cell_type": "code",
   "execution_count": 1,
   "metadata": {},
   "outputs": [],
   "source": [
    "import pyperclip\n",
    "def clippy(message):\n",
    "    pyperclip.copy(message)\n",
    "    print('Copied to clipboard: ' + message)\n"
   ]
  },
  {
   "cell_type": "code",
   "execution_count": 2,
   "metadata": {},
   "outputs": [
    {
     "name": "stdout",
     "output_type": "stream",
     "text": [
      "Copied to clipboard: \n",
      "Do research in to the company website of cyclomedia and find out what the company does and what applications, solutions, or services they make avaialble  to their customers .\n",
      "Create a list of the applications, solutions, or services and give a short summary of these solution areas.\n",
      "Do not include technical support, sales, or consultancy services, in the list.\n",
      "The list should be in the form of a bullet point list\n",
      "\n"
     ]
    }
   ],
   "source": [
    "\n",
    "partner = \"cyclomedia\"\n",
    "\n",
    "question = f\"\"\"\n",
    "Do research in to the company website of {partner} and find out what the company does and what applications, solutions, or services they make avaialble  to their customers .\n",
    "Create a list of the applications, solutions, or services and give a short summary of these solution areas.\n",
    "Do not include technical support, sales, or consultancy services, in the list.\n",
    "The list should be in the form of a bullet point list\n",
    "\"\"\"\n",
    "\n",
    "clippy(question)\n"
   ]
  },
  {
   "cell_type": "markdown",
   "metadata": {},
   "source": [
    "solutions= \"\"\"\n",
    "<copy/paste the most relevant ones>\n",
    "\"\"\""
   ]
  },
  {
   "cell_type": "markdown",
   "metadata": {},
   "source": [
    "I have found that **WorkplaceBuddy** is a company that provides **Microsoft 365 training** in Teams ¹. They offer an app that can be added to Microsoft Teams, which provides instant support, micro-learnings, and relevant content to help users learn more about Microsoft 365 ¹². The app is designed to help end-users, C-level IT professionals, HR professionals, and Microsoft partners build business and technical skills, get ready for the future of work, and decrease support tickets ¹. \n",
    "\n",
    "Here is a list of the applications, solutions, or services provided by WorkplaceBuddy:\n",
    "\n",
    "- **Microsoft 365 training in Teams**: WorkplaceBuddy provides Microsoft 365 training in Teams to help users learn more about Microsoft Teams, SharePoint, Outlook, OneDrive, and all the other Microsoft Office products ¹².\n",
    "- **Instant support directly within Microsoft Teams**: WorkplaceBuddy provides instant support directly within Microsoft Teams. Users can ask WorkplaceBuddy questions, find micro-learnings that match their profile, receive relevant content, and track skill development ¹².\n",
    "- **Build business and technical skills**: WorkplaceBuddy helps end-users, C-level IT professionals, HR professionals, and Microsoft partners build business and technical skills ¹.\n",
    "- **Decrease support tickets**: WorkplaceBuddy helps decrease support tickets by providing relevant content and micro-learnings ¹.\n",
    "\n",
    "Please note that WorkplaceBuddy does not provide technical support, sales, or consultancy services ¹².\n",
    "\n",
    "Source: Conversation with Bing, 12/19/2023\n",
    "(1) WorkplaceBuddy - Microsoft 365 training in Teams. https://www.workplacebuddy.com/.\n",
    "(2) Find the right app | Microsoft AppSource. https://appsource.microsoft.com/en-us/product/office/WA200001238.\n",
    "(3) Job Management and Field Service Management Software | WorkBuddy. https://workbuddy.com/.\n",
    "(4) WorkplaceBuddy. https://www.workplacebuddy.com/support.\n",
    "(5) Application Information for WorkplaceBuddy by WorkplaceBuddy .... https://learn.microsoft.com/en-us/microsoft-365-app-certification/teams/workplacebuddy.\n",
    "(6) undefined. https://www.workplacebuddy.com.\n",
    "(7) undefined. https://www.workplacebuddy.com/terms-of-use.pdf."
   ]
  },
  {
   "cell_type": "code",
   "execution_count": 3,
   "metadata": {},
   "outputs": [
    {
     "name": "stdout",
     "output_type": "stream",
     "text": [
      "Copied to clipboard: \n",
      "Search cyclomedia's website for use cases or success stories and create a list of the 5 most interesting ones.\n",
      "Do not recommend that I should visit their website.\n",
      "\n"
     ]
    }
   ],
   "source": [
    "max = 5\n",
    "question = f\"\"\"\n",
    "Search {partner}'s website for use cases or success stories and create a list of the {max} most interesting ones.\n",
    "Do not recommend that I should visit their website.\n",
    "\"\"\"\n",
    "\n",
    "clippy(question)"
   ]
  },
  {
   "cell_type": "code",
   "execution_count": null,
   "metadata": {},
   "outputs": [],
   "source": [
    "use_cases = \"\"\"\n",
    "HR professionals: WorkplaceBuddy helps HR professionals build a strong digital skills foundation, leading to an impactful and positive digital employee experience. The platform is built to help everyone become digitally skilled, get everyone engaged, provide a strong foundation for communicating digital updates, and foster growth mindset all through joyful positive experiences.\n",
    "End users: With WorkplaceBuddy, end-users can earn credentials to help demonstrate their skills to current and future employees, keeping them up to date and ahead of the competition. The platform offers bite-sized learnings and nanodegrees that fit seamlessly into your workflow as it’s right inside Microsoft Teams.\n",
    "C-level: WorkplaceBuddy is dedicated to helping organizations become digital leaders. The platform is powerful as it is personalized, yet scalable, ensuring smooth onboarding, quick adoption of new digital tools, and frictionless implementation of new ways to work.\n",
    "Microsoft 365 adoption: WorkplaceBuddy eases your Microsoft 365 adoption journey through helpful tips and a personalized learning pathway. The company was founded in 2020 and is based out of Amsterdam\n",
    "Digital skills: WorkplaceBuddy helps users achieve (at least) a digital skill level of 4.2/5. The platform offers learnings in the flow of work, bite-sized learnings, and nanodegrees\n",
    "Employee engagement: With WorkplaceBuddy, organizations can reinforce a successful employee experience. The platform helps build digital skills, interact with employees at scale, and target the right audience for your messages\n",
    "Remote work: WorkplaceBuddy helps organizations create connection and positive moments in remote work environments. The platform ensures a digital experience where everyone can understand it and be included in all that’s happening\n",
    "Smooth onboarding: WorkplaceBuddy ensures smooth onboarding of new digital tools and frictionless implementation of new ways to work\n",
    "Personalized learning: WorkplaceBuddy uses a chatbot-based interface to interact with end-users, learn about their unique goals and needs, and personalize the learning experience accordingly\n",
    "Analytics: WorkplaceBuddy provides HR experts with the right analytics to know where their organization stands and where they want to go. The platform keeps your organization engaged and ensures your colleagues make progress\n",
    "\"\"\"\n"
   ]
  },
  {
   "cell_type": "code",
   "execution_count": 47,
   "metadata": {},
   "outputs": [
    {
     "name": "stdout",
     "output_type": "stream",
     "text": [
      "Copied to clipboard: \n",
      "Based on the use cases or success stories you found, create a list of 5 questions you would like to ask workplacebuddy about their solutions.\n",
      "\n"
     ]
    }
   ],
   "source": [
    "question = f\"\"\"\n",
    "Based on the use cases or success stories you found, create a list of {max} questions you would like to ask {partner} about their solutions.\n",
    "\"\"\"\n",
    "\n",
    "clippy(question)"
   ]
  },
  {
   "cell_type": "code",
   "execution_count": 49,
   "metadata": {},
   "outputs": [
    {
     "name": "stdout",
     "output_type": "stream",
     "text": [
      "Copied to clipboard: \n",
      "How could Artificial Intelligence be used to help answer these questions. \n",
      "Answer each question seperatly and eleborate on how AI could be used to answer the question, and where relevant provide a reference to a reference or sample aimplementation.\n",
      "\n"
     ]
    }
   ],
   "source": [
    "question = f\"\"\"\n",
    "How could Artificial Intelligence be used to help answer these questions. \n",
    "Answer each question seperatly and eleborate on how AI could be used to answer the question, and where relevant provide a reference to a reference or sample aimplementation.\n",
    "\"\"\"\n",
    "\n",
    "clippy(question)"
   ]
  },
  {
   "cell_type": "markdown",
   "metadata": {},
   "source": [
    "Here are some ways that Artificial Intelligence (AI) could be used to help answer the questions I previously suggested:\n",
    "\n",
    "1. **What are the most common challenges that your customers face when adopting Microsoft 365, and how does WorkplaceBuddy help them overcome these challenges?** \n",
    "\n",
    "AI could be used to analyze customer feedback and support tickets to identify the most common challenges that customers face when adopting Microsoft 365. This analysis could be used to develop targeted training content that addresses these challenges. Additionally, AI could be used to personalize training content based on the user's role, skill level, and learning style.\n",
    "\n",
    "2. **Can you share any success stories of customers who have used WorkplaceBuddy to improve their digital skills and employee engagement?** AI could be used to analyze customer feedback and usage data to identify success stories and quantify the impact of WorkplaceBuddy's solutions. This analysis could be used to create case studies and testimonials that demonstrate the value of WorkplaceBuddy's solutions.\n",
    "\n",
    "3. **How does WorkplaceBuddy ensure that its training content is up-to-date with the latest Microsoft 365 features and updates?** AI could be used to monitor Microsoft's documentation and release notes to identify new features and updates. This information could be used to update WorkplaceBuddy's training content automatically. Additionally, AI could be used to analyze customer feedback and usage data to identify areas where training content needs to be updated or improved.\n",
    "\n",
    "4. **What kind of analytics and insights does WorkplaceBuddy provide to HR professionals to help them track employee progress and skill development?** \n",
    "AI could be used to analyze usage data to provide HR professionals with insights into employee progress and skill development. For example, AI could be used to identify areas where employees are struggling and recommend targeted training content to address these areas. Additionally, AI could be used to identify high-performing employees and recommend them for leadership or mentorship roles.\n",
    "\n",
    "5. **How does WorkplaceBuddy measure the effectiveness of its training programs, and what metrics do you use to evaluate success?** AI could be used to analyze usage data and customer feedback to measure the effectiveness of WorkplaceBuddy's training programs. For example, AI could be used to identify areas where training content is not effective and recommend changes to improve the content. Additionally, AI could be used to identify areas where training content is highly effective and recommend that this content be expanded or used as a model for other content.\n",
    "\n",
    "Please note that these are just some examples of how AI could be used to help answer these questions. WorkplaceBuddy may have other methods or strategies for addressing these questions. For more information on how AI is being used in the enterprise today, you can check out this [CIO article](^3^).\n",
    "\n",
    "Source: Conversation with Bing, 12/19/2023\n",
    "(1) 12 most popular AI use cases in the enterprise today | CIO. https://www.cio.com/article/652775/12-most-popular-ai-use-cases-in-the-enterprise-today.html.\n",
    "(2) C-level - WorkplaceBuddy. https://www.workplacebuddy.com/use-cases/c-level.\n",
    "(3) End users - WorkplaceBuddy. https://www.workplacebuddy.com/use-cases/end-users.\n",
    "(4) IT professionals - WorkplaceBuddy. https://www.workplacebuddy.com/use-cases/it-professionals.\n",
    "(5) HR professionals - WorkplaceBuddy. https://www.workplacebuddy.com/use-cases/hr-professionals.\n",
    "\"\"\""
   ]
  },
  {
   "cell_type": "code",
   "execution_count": 8,
   "metadata": {},
   "outputs": [
    {
     "name": "stdout",
     "output_type": "stream",
     "text": [
      "Copied to clipboard: What are competitors of workplacebuddy in the Netherlands.\n",
      "For each of the competitors list any solutions they offer that are similar to workplacebuddy's solutions and are using Artificial Intelligenge or Large Language Models.\n"
     ]
    }
   ],
   "source": [
    "q = f\"\"\"What are competitors of {partner} in the Netherlands.\n",
    "For each of the competitors list any solutions they offer that are similar to {partner}'s solutions and are using Artificial Intelligenge or Large Language Models.\"\"\"\n",
    "\n",
    "clippy(q)"
   ]
  },
  {
   "cell_type": "markdown",
   "metadata": {},
   "source": [
    "According to [G2](^1^), some of the most common alternatives to WorkplaceBuddy include Scratchpad, Zapier, Qlik Sense, and Integrately. These solutions are all productivity bots that provide similar functionality to WorkplaceBuddy. Other competitors of WorkplaceBuddy include Unsilo, Wittybee Technologies, and Convolytics ²³⁴.\n",
    "\n",
    "It is unclear whether these competitors use Artificial Intelligence or Large Language Models in their solutions. However, it is possible that some of these solutions use AI or NLP to provide personalized support and training content to users. For example, Zapier uses AI to automate tasks between online services ¹. Qlik Sense uses AI to provide self-service data visualization and discovery ¹. Integrately uses AI to enable users to connect multiple apps with ease ¹. \n",
    "\n",
    "Please note that this information is based on my search results and may not be a comprehensive list of all competitors of WorkplaceBuddy in the Netherlands.\n",
    "\n",
    "Source: Conversation with Bing, 12/19/2023\n",
    "(1) Top 10 WorkplaceBuddy Alternatives & Competitors | G2. https://www.g2.com/products/workplacebuddy/competitors/alternatives.\n",
    "(2) WorkplaceBuddy - Crunchbase Company Profile & Funding. https://www.crunchbase.com/organization/workplacebuddy.\n",
    "(3) WorkplaceBuddy - Company Profile - Tracxn. https://tracxn.com/d/companies/workplacebuddy/__NljyFfulGzKaNJRW5Q7R6cUeI7V7evIlmNNvvNmOJQA.\n",
    "(4) List of Best WorkplaceBuddy Alternatives & Competitors 2023 - TrustRadius. https://www.trustradius.com/products/workplacebuddy/competitors.\n",
    "(5) Top 10 WorkplaceBuddy Alternatives & Competitors | G2. https://www.g2.com/products/workplacebuddy/competitors/alternatives.\n",
    "(6) WorkplaceBuddy - Overview, News & Competitors | ZoomInfo.com. https://www.zoominfo.com/c/workplacebuddy/480586397.\n",
    "(7) Top Artificial Intelligence Companies in the Netherlands. https://clutch.co/nl/developers/artificial-intelligence."
   ]
  },
  {
   "cell_type": "code",
   "execution_count": null,
   "metadata": {},
   "outputs": [],
   "source": [
    "f\"\"\"what are customers asking about {partner} on social media?\"\"\""
   ]
  },
  {
   "cell_type": "code",
   "execution_count": 9,
   "metadata": {},
   "outputs": [
    {
     "name": "stdout",
     "output_type": "stream",
     "text": [
      "Copied to clipboard: \n",
      "Temprarily act as if you are a sales person for workplacebuddy and create a list of 10 questions you would like to ask a potential customer about their business.\n",
      "\n"
     ]
    }
   ],
   "source": [
    "question = f\"\"\"\n",
    "Temprarily act as if you are a sales person for {partner} and create a list of 10 questions you would like to ask a potential customer about their business.\n",
    "\"\"\"\n",
    "\n",
    "clippy(question)"
   ]
  },
  {
   "cell_type": "code",
   "execution_count": null,
   "metadata": {},
   "outputs": [],
   "source": [
    "question = f\"\"\"\n",
    "Based on the use cases or success stories you found, create a list of 10 questions you would like to ask {partner} about their solutions.\n",
    "\"\"\"\n",
    "\n",
    "clippy(question)"
   ]
  }
 ],
 "metadata": {
  "kernelspec": {
   "display_name": "Python 3",
   "language": "python",
   "name": "python3"
  },
  "language_info": {
   "codemirror_mode": {
    "name": "ipython",
    "version": 3
   },
   "file_extension": ".py",
   "mimetype": "text/x-python",
   "name": "python",
   "nbconvert_exporter": "python",
   "pygments_lexer": "ipython3",
   "version": "3.11.6"
  }
 },
 "nbformat": 4,
 "nbformat_minor": 2
}
