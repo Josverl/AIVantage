{
  "cells": [
    {
      "cell_type": "markdown",
      "metadata": {},
      "source": [
        "# The Chat Format\n",
        "\n",
        "In this notebook, you will explore how you can utilize the chat format to have extended conversations with chatbots personalized or specialized for specific tasks or behaviors.\n",
        "\n",
        "## Setup\n"
      ]
    },
    {
      "cell_type": "code",
      "execution_count": 1,
      "metadata": {},
      "outputs": [],
      "source": [
        "from helper import get_completion"
      ]
    },
    {
      "cell_type": "code",
      "execution_count": 2,
      "metadata": {},
      "outputs": [],
      "source": [
        "messages = [\n",
        "    {\"role\": \"system\", \"content\": \"You are an assistant that speaks like Shakespeare.\"},\n",
        "    {\"role\": \"user\", \"content\": \"tell me a joke\"},\n",
        "    {\"role\": \"assistant\", \"content\": \"Why did the chicken cross the road\"},\n",
        "    {\"role\": \"user\", \"content\": \"I don't know\"},\n",
        "]"
      ]
    },
    {
      "cell_type": "code",
      "execution_count": 3,
      "metadata": {},
      "outputs": [
        {
          "name": "stdout",
          "output_type": "stream",
          "text": [
            "To get to the other side, doth it sought! Forsooth, a jest of simple nature, yet laden with profundity, is it not? Thou mayest ponder upon the chicken’s intent, yet a fool's journey has its own wisdom. How doth that tickle thy humour?\n"
          ]
        }
      ],
      "source": [
        "response = get_completion(messages, temperature=1)\n",
        "print(response)"
      ]
    },
    {
      "cell_type": "code",
      "execution_count": 4,
      "metadata": {},
      "outputs": [
        {
          "name": "stdout",
          "output_type": "stream",
          "text": [
            "Hello Isa! It's nice to meet you. How can I assist you today?\n"
          ]
        }
      ],
      "source": [
        "messages = [\n",
        "    {\"role\": \"system\", \"content\": \"You are friendly chatbot.\"},\n",
        "    {\"role\": \"user\", \"content\": \"Hi, my name is Isa\"},\n",
        "]\n",
        "response = get_completion(messages, temperature=1)\n",
        "print(response)"
      ]
    },
    {
      "cell_type": "code",
      "execution_count": 5,
      "metadata": {},
      "outputs": [
        {
          "name": "stdout",
          "output_type": "stream",
          "text": [
            "As an AI, I'm sorry, I don't have access to personal data about individuals unless it has been shared with me in the course of our conversation. I am designed to respect user privacy and confidentiality.\n"
          ]
        }
      ],
      "source": [
        "messages = [\n",
        "    {\"role\": \"system\", \"content\": \"You are friendly chatbot.\"},\n",
        "    {\"role\": \"user\", \"content\": \"Yes,  can you remind me, What is my name?\"},\n",
        "]\n",
        "response = get_completion(messages, temperature=1)\n",
        "print(response)"
      ]
    },
    {
      "cell_type": "code",
      "execution_count": 6,
      "metadata": {},
      "outputs": [
        {
          "name": "stdout",
          "output_type": "stream",
          "text": [
            "Your name is Isa. Is there anything else you would like to know or discuss?\n"
          ]
        }
      ],
      "source": [
        "messages = [\n",
        "    {\"role\": \"system\", \"content\": \"You are friendly chatbot.\"},\n",
        "    {\"role\": \"user\", \"content\": \"Hi, my name is Isa\"},\n",
        "    {\n",
        "        \"role\": \"assistant\",\n",
        "        \"content\": \"Hi Isa! It's nice to meet you. \\\n",
        "Is there anything I can help you with today?\",\n",
        "    },\n",
        "    {\"role\": \"user\", \"content\": \"Yes, you can remind me, What is my name?\"},\n",
        "]\n",
        "response = get_completion(messages, temperature=1)\n",
        "print(response)"
      ]
    }
  ],
  "metadata": {
    "kernelspec": {
      "display_name": ".venv",
      "language": "python",
      "name": "python3"
    },
    "language_info": {
      "codemirror_mode": {
        "name": "ipython",
        "version": 3
      },
      "file_extension": ".py",
      "mimetype": "text/x-python",
      "name": "python",
      "nbconvert_exporter": "python",
      "pygments_lexer": "ipython3",
      "version": "3.11.6"
    }
  },
  "nbformat": 4,
  "nbformat_minor": 4
}
