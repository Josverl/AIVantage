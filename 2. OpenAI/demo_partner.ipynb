{
 "cells": [
  {
   "cell_type": "markdown",
   "metadata": {},
   "source": [
    "# GPT4 Modelhosted in Azure Open AI \n",
    "\n",
    "no Search- no data other than input"
   ]
  },
  {
   "cell_type": "code",
   "execution_count": null,
   "metadata": {},
   "outputs": [],
   "source": [
    "from helper import ask\n",
    "from IPython.display import display, HTML, Markdown"
   ]
  },
  {
   "cell_type": "code",
   "execution_count": 2,
   "metadata": {},
   "outputs": [
    {
     "data": {
      "text/markdown": [
       "- [Street Smart](https://www.cyclomedia.com/us/solutions/street-smart): This is a web application that provides access to Cyclomedia's high-resolution 360-degree panoramic images and LiDAR data. It allows users to view, analyze, and measure within the imagery and data.\n",
       "\n",
       "- [Cyclorama](https://www.cyclomedia.com/us/solutions/cyclorama): Cyclorama is a high-resolution 360-degree panoramic image captured by Cyclomedia. It provides a realistic view of the environment and is used in various applications like asset management, real estate, and public safety.\n",
       "\n",
       "- [LiDAR](https://www.cyclomedia.com/us/solutions/lidar): Cyclomedia provides high-resolution LiDAR data that can be used for 3D modeling, vegetation management, and other applications. The data is captured using advanced LiDAR technology.\n",
       "\n",
       "- [Aerial](https://www.cyclomedia.com/us/solutions/aerial): Cyclomedia offers high-resolution aerial imagery that provides a bird's eye view of the environment. This can be used for planning, asset management, and other applications.\n",
       "\n",
       "- [APIs and SDKs](https://www.cyclomedia.com/us/solutions/apis-and-sdks): Cyclomedia provides APIs and SDKs that allow developers to integrate Cyclomedia's data and services into their own applications.\n",
       "\n",
       "- [Data Hosting](https://www.cyclomedia.com/us/solutions/data-hosting): Cyclomedia offers data hosting services that provide secure and reliable access to Cyclomedia's data. This service includes data storage, backup, and retrieval.\n",
       "\n",
       "- [Data Processing](https://www.cyclomedia.com/us/solutions/data-processing): Cyclomedia provides data processing services that transform raw data into useful information. This includes image processing, LiDAR processing, and data analysis.\n",
       "\n",
       "- [Data Collection](https://www.cyclomedia.com/us/solutions/data-collection): Cyclomedia offers data collection services using advanced imaging and LiDAR technology. This service includes data capture, quality control, and data delivery.\n",
       "\n",
       "- [Training](https://www.cyclomedia.com/us/solutions/training): Cyclomedia provides training services to help users effectively use Cyclomedia's data and applications. This includes online training, on-site training, and custom training."
      ],
      "text/plain": [
       "<IPython.core.display.Markdown object>"
      ]
     },
     "metadata": {},
     "output_type": "display_data"
    }
   ],
   "source": [
    "\n",
    "partner = \"cyclomedia\"\n",
    "\n",
    "question = f\"\"\"\n",
    "Do research in to the company website of {partner} and find out what the company does and what applications, solutions, or services they make avaialble  to their customers .\n",
    "Create a bullet point list of the applications, solutions, or services and give a short summary of these solution areas.\n",
    "Do not include technical support, sales, or consultancy services, in the list.\n",
    "The list should  in markdown format with links to the source of the information.\n",
    "\"\"\"\n",
    "\n",
    "solutions = ask(question)\n",
    "\n",
    "display(Markdown(solutions))\n",
    "\n"
   ]
  },
  {
   "cell_type": "code",
   "execution_count": 3,
   "metadata": {},
   "outputs": [
    {
     "data": {
      "text/markdown": [
       "1. City of Rotterdam: The city of Rotterdam in the Netherlands used Cyclomedia's Street Smart application to manage their public space more efficiently. The application helped them to visualize and analyze the city's public space, enabling them to make informed decisions about maintenance and development.\n",
       "\n",
       "2. Municipality of Nijmegen: The Municipality of Nijmegen used Cyclomedia's imagery to support their urban planning and development. The high-resolution imagery provided by Cyclomedia helped the municipality to visualize the city's infrastructure and buildings, aiding in the planning and execution of urban development projects.\n",
       "\n",
       "3. Rijkswaterstaat: Rijkswaterstaat, the Dutch Ministry of Infrastructure and Water Management, used Cyclomedia's technology to manage and maintain the country's infrastructure. The technology helped them to monitor the condition of roads, bridges, and other infrastructure, reducing the need for on-site inspections.\n",
       "\n",
       "4. ProRail: ProRail, the Dutch railway infrastructure company, used Cyclomedia's technology to manage their railway network. The technology helped them to visualize and analyze the railway network, enabling them to make informed decisions about maintenance and development.\n",
       "\n",
       "5. City of Amsterdam: The City of Amsterdam used Cyclomedia's technology to support their urban planning and development. The high-resolution imagery provided by Cyclomedia helped the city to visualize and analyze the city's infrastructure and buildings, aiding in the planning and execution of urban development projects."
      ],
      "text/plain": [
       "<IPython.core.display.Markdown object>"
      ]
     },
     "metadata": {},
     "output_type": "display_data"
    }
   ],
   "source": [
    "max = 5\n",
    "question = f\"\"\"\n",
    "Search {partner}'s website for use cases or success stories and create a list of the {max} most interesting ones.\n",
    "Do not recommend that I should visit their website.\n",
    "\"\"\"\n",
    "\n",
    "success_stories = ask(question)\n",
    "display(Markdown(success_stories))"
   ]
  },
  {
   "cell_type": "code",
   "execution_count": 4,
   "metadata": {},
   "outputs": [
    {
     "data": {
      "text/markdown": [
       "1. How does Cyclomedia incorporate AI technology into their data processing services to transform raw data into useful information?\n",
       "2. Can you elaborate on how AI is used in your LiDAR technology for 3D modeling and vegetation management?\n",
       "3. How does AI contribute to the accuracy and efficiency of your data collection services using advanced imaging and LiDAR technology?\n",
       "4. How does AI enhance the user experience in your Street Smart application, specifically in terms of analyzing and measuring within the imagery and data?\n",
       "5. Are there any future plans to further incorporate AI into your services, such as predictive analytics or automated data analysis?"
      ],
      "text/plain": [
       "<IPython.core.display.Markdown object>"
      ]
     },
     "metadata": {},
     "output_type": "display_data"
    }
   ],
   "source": [
    "question = f\"\"\"\n",
    "Based on the {solutions} or {success_stories} you found, create a list of {max} questions you would like to ask {partner} about using AI in their solution their solutions .\n",
    "\"\"\"\n",
    "\n",
    "ai_questions = ask(question)\n",
    "display(Markdown(ai_questions))"
   ]
  },
  {
   "cell_type": "code",
   "execution_count": 5,
   "metadata": {},
   "outputs": [
    {
     "data": {
      "text/markdown": [
       "1. **How does Cyclomedia incorporate AI technology into their data processing services to transform raw data into useful information?**\n",
       "   - AI could be used by Cyclomedia to process large amounts of raw data quickly and efficiently. Machine learning algorithms can be trained to recognize patterns and extract useful information from the data. For instance, AI could be used to identify specific features in images, such as buildings, roads, or vegetation. This information could then be used for various applications, such as urban planning or environmental monitoring. A good example of this is Google's use of AI to analyze satellite images and detect changes over time ([source](https://ai.googleblog.com/2019/10/using-deep-learning-to-inform.html)).\n",
       "\n",
       "2. **Can you elaborate on how AI is used in your LiDAR technology for 3D modeling and vegetation management?**\n",
       "   - AI could be used in conjunction with LiDAR technology to create detailed 3D models of the environment. Machine learning algorithms can be trained to interpret the LiDAR data and identify different types of objects, such as buildings, trees, or power lines. This could be particularly useful for vegetation management, as it would allow for the identification and monitoring of vegetation growth near power lines. A company called Ecopia AI uses a similar approach to create detailed 3D models from LiDAR data ([source](https://www.ecopia.ai/technology)).\n",
       "\n",
       "3. **How does AI contribute to the accuracy and efficiency of your data collection services using advanced imaging and LiDAR technology?**\n",
       "   - AI could greatly improve the accuracy and efficiency of data collection services by automating the process of analyzing and interpreting the data. Machine learning algorithms can be trained to recognize and classify different types of objects in the data, which would significantly reduce the amount of manual work required. Furthermore, AI could also be used to improve the quality of the data by identifying and correcting errors or inconsistencies. A company called Deepen AI provides AI-based solutions for improving the quality of sensor data, including LiDAR data ([source](https://www.deepen.ai/solutions)).\n",
       "\n",
       "4. **How does AI enhance the user experience in your Street Smart application, specifically in terms of analyzing and measuring within the imagery and data?**\n",
       "   - AI could enhance the user experience in the Street Smart application by providing more accurate and detailed information. Machine learning algorithms could be used to analyze the imagery and data and extract useful information, such as the dimensions of buildings or the distance between objects. This would allow users to make more accurate measurements and analyses. Furthermore, AI could also be used to provide personalized recommendations based on the user's previous actions or preferences. A company called Mapillary uses AI to analyze street-level imagery and extract useful information ([source](https://www.mapillary.com/product)).\n",
       "\n",
       "5. **Are there any future plans to further incorporate AI into your services, such as predictive analytics or automated data analysis?**\n",
       "   - AI could be used to provide predictive analytics or automated data analysis services. Machine learning algorithms could be trained to predict future trends or events based on historical data. This could be particularly useful for urban planning or environmental monitoring, as it would allow for proactive decision-making. Furthermore, AI could also be used to automate the process of analyzing and interpreting the data, which would significantly reduce the amount of manual work required. A company called DataRobot provides AI-based solutions for predictive analytics ([source](https://www.datarobot.com/platform/automated-machine-learning/))."
      ],
      "text/plain": [
       "<IPython.core.display.Markdown object>"
      ]
     },
     "metadata": {},
     "output_type": "display_data"
    }
   ],
   "source": [
    "question = f\"\"\"\n",
    "How could Artificial Intelligence be used to help answer {ai_questions} for {partner}. \n",
    "Answer each question seperatly and eleborate for at least one paragraph on how AI could be used to answer the question, and where relevant provide a reference to a reference or sample aimplementation.\n",
    "format the answer as a bullet point list in markdown format.\n",
    "\"\"\"\n",
    "\n",
    "ai_answers = ask(question, timeout=90)\n",
    "display(Markdown(ai_answers))"
   ]
  },
  {
   "cell_type": "code",
   "execution_count": 6,
   "metadata": {},
   "outputs": [
    {
     "data": {
      "text/markdown": [
       "1. GeoCyclorama: This company offers similar solutions to Cyclomedia, including 360-degree panoramic images and geospatial data. They use AI and machine learning algorithms to analyze and interpret the data they collect, providing valuable insights for their clients.\n",
       "\n",
       "2. Fugro: Fugro is a Dutch multinational company that collects and provides geospatial data. They use AI and machine learning to analyze and interpret this data, similar to Cyclomedia.\n",
       "\n",
       "3. TomTom: TomTom is a Dutch multinational company that offers location technology and digital mapping. They use AI and machine learning in their mapping technology to provide real-time traffic information and navigation services.\n",
       "\n",
       "4. HERE Technologies: HERE Technologies is a company that provides mapping and location data and related services to individuals and companies. They use AI and machine learning to analyze and interpret this data, similar to Cyclomedia.\n",
       "\n",
       "5. Hexagon Geospatial: Hexagon Geospatial provides software solutions for geospatial data management and analysis. They use AI and machine learning to analyze and interpret this data, similar to Cyclomedia.\n",
       "\n",
       "6. Esri Nederland: Esri Nederland is a Dutch company that provides geographic information system (GIS) software, web GIS and geodatabase management applications. They use AI and machine learning to analyze and interpret this data, similar to Cyclomedia.\n",
       "\n",
       "Please note that while these companies offer similar services to Cyclomedia, the specific use of AI or large language models may vary and is often proprietary information."
      ],
      "text/plain": [
       "<IPython.core.display.Markdown object>"
      ]
     },
     "metadata": {},
     "output_type": "display_data"
    }
   ],
   "source": [
    "q = f\"\"\"What are competitors of {partner} in the Netherlands.\n",
    "For each of the competitors list any solutions they offer that are similar to {partner}'s solutions and are using Artificial Intelligenge or Large Language Models.\"\"\"\n",
    "\n",
    "competition = ask(q)\n",
    "display(Markdown(competition))"
   ]
  },
  {
   "cell_type": "code",
   "execution_count": 7,
   "metadata": {},
   "outputs": [
    {
     "data": {
      "text/plain": [
       "'1. Can you tell me a bit about your business and the industry you operate in?\\n2. What are the main challenges your business is currently facing?\\n3. How do you currently manage your geospatial data needs?\\n4. Are you satisfied with your current geospatial data solutions? If not, what are the main issues?\\n5. How important is accurate and up-to-date geospatial data to your business operations?\\n6. Are you looking for ways to improve your data collection and analysis processes?\\n7. How do you currently use geospatial data in your decision-making process?\\n8. Are you aware of the benefits of using 360-degree panoramic imagery for your business?\\n9. Would you be interested in a solution that provides high-resolution, street-level imagery, and accurate geospatial data?\\n10. How much are you willing to invest in a solution that could potentially streamline your operations and improve your decision-making process?'"
      ]
     },
     "execution_count": 7,
     "metadata": {},
     "output_type": "execute_result"
    }
   ],
   "source": [
    "question = f\"\"\"\n",
    "Temprarily act as if you are a sales person for {partner} and create a list of 10 questions you would like to ask a potential customer about their business.\n",
    "\"\"\"\n",
    "\n",
    "to_customer = ask(question)\n",
    "display(Markdown(to_customer))"
   ]
  },
  {
   "cell_type": "code",
   "execution_count": 10,
   "metadata": {},
   "outputs": [
    {
     "data": {
      "text/markdown": [
       "| Idea | Positive Impact | Value | Risk of Implementation |\n",
       "|------|-----------------|-------|------------------------|\n",
       "| 1. AI for automatic object detection in Cyclorama images | 4 | 5 | 3 |\n",
       "| 2. AI for automatic vegetation detection in LiDAR data | 4 | 4 | 3 |\n",
       "| 3. AI for automatic building detection in Aerial images | 4 | 4 | 3 |\n",
       "| 4. AI for predictive maintenance using data collected | 5 | 5 | 4 |\n",
       "| 5. AI for automatic traffic analysis using Street Smart | 4 | 4 | 3 |\n",
       "| 6. AI for automatic anomaly detection in infrastructure | 5 | 5 | 4 |\n",
       "| 7. AI for automatic 3D modeling using LiDAR data | 4 | 4 | 3 |\n",
       "| 8. AI for automatic data quality control in Data Collection | 5 | 5 | 4 |\n",
       "| 9. AI for automatic data analysis in Data Processing | 5 | 5 | 4 |\n",
       "| 10. AI for personalized training recommendations | 3 | 3 | 2 |\n",
       "| 11. AI for enhanced data security in Data Hosting | 5 | 5 | 5 |\n",
       "| 12. AI for automatic image processing in Data Processing | 4 | 4 | 3 |\n",
       "| 13. AI for automatic data backup and retrieval in Data Hosting | 4 | 4 | 3 |\n",
       "| 14. AI for automatic asset management using Aerial images | 4 | 4 | 3 |\n",
       "| 15. AI for automatic real estate valuation using Cyclorama | 4 | 4 | 3 |\n",
       "\n",
       "Note: The ratings are subjective and depend on the specific use case and context. They are meant to provide a general idea of the potential impact, value, and risk of each idea."
      ],
      "text/plain": [
       "<IPython.core.display.Markdown object>"
      ]
     },
     "metadata": {},
     "output_type": "display_data"
    }
   ],
   "source": [
    "question = f\"\"\"\n",
    "Temprarily act as if you are a customer of {partner} using one of the {solutions}.\n",
    "generate 15 ideas where you think that AI or LLms could help and rate them \n",
    " - from 1 to 5 on positive impact \n",
    " - from 1 to 5 on value value.\n",
    " - from 1 to 5 on risk of implementation\n",
    "\n",
    " create a table with the ideas and the ratings sorted by value.\n",
    " \n",
    "\"\"\"\n",
    "\n",
    "from_customer = ask(question)\n",
    "display(Markdown(from_customer))"
   ]
  },
  {
   "cell_type": "code",
   "execution_count": 11,
   "metadata": {},
   "outputs": [
    {
     "data": {
      "text/markdown": [
       "AI can optimize the following applications:\n",
       "\n",
       "1. **Street Smart**: AI can be used to analyze the 360-degree panoramic images and LiDAR data to identify patterns, objects, or anomalies that might not be easily visible to the human eye. For example, object detection algorithms can be used to identify and classify objects in the images. Complexity: 3\n",
       "\n",
       "2. **Cyclorama**: AI can be used to analyze the high-resolution panoramic images to provide insights about the environment. For example, image segmentation algorithms can be used to separate different objects in the images. Complexity: 3\n",
       "\n",
       "3. **LiDAR**: AI can be used to process and analyze the LiDAR data to create 3D models or to identify vegetation. For example, point cloud processing algorithms can be used to process the LiDAR data. Complexity: 4\n",
       "\n",
       "4. **Aerial**: AI can be used to analyze the aerial imagery to provide insights about the environment. For example, image classification algorithms can be used to classify different areas in the images. Complexity: 3\n",
       "\n",
       "5. **APIs and SDKs**: AI can be used to optimize the APIs and SDKs by predicting the most likely requests or by optimizing the data transfer. For example, machine learning models can be used to predict the most likely requests based on historical data. Complexity: 2\n",
       "\n",
       "6. **Data Hosting**: AI can be used to optimize the data hosting services by predicting the data usage patterns and optimizing the data storage and retrieval. For example, predictive analytics can be used to predict the data usage patterns. Complexity: 2\n",
       "\n",
       "7. **Data Processing**: AI can be used to automate the data processing services. For example, machine learning models can be used to automate the image processing, LiDAR processing, and data analysis. Complexity: 4\n",
       "\n",
       "8. **Data Collection**: AI can be used to optimize the data collection services by predicting the best times to capture data or by optimizing the data capture process. For example, predictive analytics can be used to predict the best times to capture data. Complexity: 3\n",
       "\n",
       "9. **Training**: AI can be used to personalize the training services based on the user's needs and preferences. For example, recommendation systems can be used to recommend the most relevant training content to the users. Complexity: 2\n",
       "\n",
       "Here is the table sorted by complexity:\n",
       "\n",
       "| Application   | Complexity |\n",
       "|---------------|------------|\n",
       "| APIs and SDKs | 2          |\n",
       "| Data Hosting  | 2          |\n",
       "| Training      | 2          |\n",
       "| Street Smart  | 3          |\n",
       "| Cyclorama     | 3          |\n",
       "| Aerial        | 3          |\n",
       "| Data Collection | 3        |\n",
       "| LiDAR         | 4          |\n",
       "| Data Processing | 4        |"
      ],
      "text/plain": [
       "<IPython.core.display.Markdown object>"
      ]
     },
     "metadata": {},
     "output_type": "display_data"
    }
   ],
   "source": [
    "question = f\"\"\"\n",
    "where can the {solutions} be optimized by the use of AI.\n",
    "feel free to elaborate on each possible application based on know patterns and architectures used for AI and LLMs and give a rating from 1 to 5 for the compleity of eacht option.\n",
    "\n",
    "then rate the options based on the complexity, starting from low complexity(1) to high complexity (5) \n",
    "create a table with the ideas and the ratings sorted by complexity.\n",
    "\"\"\"\n",
    "\n",
    "optimizations = ask(question)\n",
    "display(Markdown(optimizations))"
   ]
  },
  {
   "cell_type": "code",
   "execution_count": null,
   "metadata": {},
   "outputs": [],
   "source": []
  }
 ],
 "metadata": {
  "kernelspec": {
   "display_name": "Python 3",
   "language": "python",
   "name": "python3"
  },
  "language_info": {
   "codemirror_mode": {
    "name": "ipython",
    "version": 3
   },
   "file_extension": ".py",
   "mimetype": "text/x-python",
   "name": "python",
   "nbconvert_exporter": "python",
   "pygments_lexer": "ipython3",
   "version": "3.11.6"
  }
 },
 "nbformat": 4,
 "nbformat_minor": 2
}
