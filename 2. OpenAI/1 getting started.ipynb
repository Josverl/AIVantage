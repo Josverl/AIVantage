{
  "cells": [
    {
      "cell_type": "markdown",
      "metadata": {},
      "source": [
        "# Getting started with GPT-4\n",
        "\n",
        "You can run the code in this notebook by pressing the \"run\" button or Shift-Enter on each cell.\n"
      ]
    },
    {
      "cell_type": "markdown",
      "metadata": {},
      "source": [
        "#### helper function\n",
        "Throughout this course, we will use OpenAI's `gpt-4-32k` model and the [chat completions endpoint](https://platform.openai.com/docs/guides/chat). \n",
        "\n",
        "This helper function will make it easier to use prompts and look at the generated outputs:"
      ]
    },
    {
      "cell_type": "code",
      "execution_count": 1,
      "metadata": {},
      "outputs": [],
      "source": [
        "from helper import get_completion"
      ]
    },
    {
      "cell_type": "code",
      "execution_count": 2,
      "metadata": {},
      "outputs": [
        {
          "name": "stdout",
          "output_type": "stream",
          "text": [
            "Why don't reindeer go to school?\n",
            "\n",
            "Because they're already \"deerlighted\" with what they know!\n"
          ]
        }
      ],
      "source": [
        "response = get_completion(\"Tell me a joke about a reindeer\", temperature=0.7)\n",
        "print(response)\n"
      ]
    },
    {
      "cell_type": "code",
      "execution_count": 4,
      "metadata": {},
      "outputs": [
        {
          "name": "stdout",
          "output_type": "stream",
          "text": [
            "As an artificial intelligence, I don't have feelings, but I'm here and ready to assist you. How can I help you today?\n"
          ]
        }
      ],
      "source": [
        "question = \"\"\"\n",
        "How are you\n",
        "\n",
        "\"\"\"\n",
        "response =  get_completion(question)\n",
        "print(response)\n"
      ]
    },
    {
      "cell_type": "code",
      "execution_count": null,
      "metadata": {},
      "outputs": [],
      "source": []
    }
  ],
  "metadata": {
    "kernelspec": {
      "display_name": ".venv",
      "language": "python",
      "name": "python3"
    },
    "language_info": {
      "codemirror_mode": {
        "name": "ipython",
        "version": 3
      },
      "file_extension": ".py",
      "mimetype": "text/x-python",
      "name": "python",
      "nbconvert_exporter": "python",
      "pygments_lexer": "ipython3",
      "version": "3.11.6"
    }
  },
  "nbformat": 4,
  "nbformat_minor": 4
}
